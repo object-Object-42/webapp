{
 "cells": [
  {
   "cell_type": "code",
   "execution_count": 1,
   "metadata": {},
   "outputs": [
    {
     "name": "stdout",
     "output_type": "stream",
     "text": [
      "sk_ee88b410d2928dc93a049194d20b32def4b273e28aa619e6\n"
     ]
    }
   ],
   "source": [
    "from dotenv import load_dotenv\n",
    "\n",
    "load_dotenv()\n",
    "\n",
    "import os\n",
    "\n",
    "print(os.getenv(\"ELEVEN_API_KEY\"))"
   ]
  },
  {
   "cell_type": "code",
   "execution_count": 11,
   "metadata": {},
   "outputs": [],
   "source": [
    "text = \"\"\"\n",
    "Hallo, wir sind das Team object Object. Ich hoffe, dass euch unser Projekt gefällt. Wir haben uns sehr viel Mühe gegeben und hoffen, dass wir euch damit begeistern können. Viel Spaß beim Anschauen und Entdecken.\n",
    "\"\"\"\n",
    "# %pip install elevenlabs"
   ]
  },
  {
   "cell_type": "code",
   "execution_count": 7,
   "metadata": {},
   "outputs": [
    {
     "name": "stdout",
     "output_type": "stream",
     "text": [
      "[Voice(voice_id='MHOybJN5BsVS5H8m3mru', name='Max Mustermann - Ernst', samples=None, category='professional', fine_tuning=FineTuningResponse(is_allowed_to_fine_tune=True, state={'eleven_multilingual_v2': 'fine_tuned', 'eleven_turbo_v2_5': 'fine_tuned'}, verification_failures=[], verification_attempts_count=0, manual_verification_requested=False, language='de', progress={}, message={}, dataset_duration_seconds=None, verification_attempts=None, slice_ids=None, manual_verification=None, finetuning_state=None, max_verification_attempts=0, next_max_verification_attempts_reset_unix_ms=0), labels={'language': 'de', 'descriptive': 'deep', 'accent': 'standard', 'gender': 'male', 'age': 'middle_aged', 'use_case': 'narrative_story'}, description='Middle aged male with a deep and gentle voice. Perfect for audiobooks.', preview_url='https://storage.googleapis.com/eleven-public-prod/custom/voices/MHOybJN5BsVS5H8m3mru/xrV1ZtBMUaV6S7wRACEh.mp3', available_for_tiers=[], settings=None, sharing=VoiceSharingResponse(status='copied', history_item_sample_id=None, date_unix=1729937432, whitelisted_emails=[], public_owner_id='e9a6840c69b79812b77ea81fa11d55aaf80dcf1938fa0137bf7f514f67f75c99', original_voice_id='MHOybJN5BsVS5H8m3mru', financial_rewards_enabled=False, free_users_allowed=True, live_moderation_enabled=False, rate=1.0, notice_period=730, disable_at_unix=None, voice_mixing_allowed=False, featured=False, category='professional', reader_app_enabled=False, image_url='', ban_reason=None, liked_by_count=0, cloned_by_count=0, name='Max Mustermann - Ernst', description='Middle aged male with a deep and gentle voice. Perfect for audiobooks.', labels={'language': 'de', 'descriptive': 'deep', 'accent': 'standard', 'gender': 'male', 'age': 'middle_aged', 'use_case': 'narrative_story'}, review_status='not_requested', review_message=None, enabled_in_library=False, instagram_username=None, twitter_username=None, youtube_username=None, tiktok_username=None, moderation_check=None), high_quality_base_model_ids=['eleven_multilingual_v2', 'eleven_turbo_v2_5'], safety_control=None, voice_verification=VoiceVerificationResponse(requires_verification=False, is_verified=False, verification_failures=[], verification_attempts_count=0, language=None, verification_attempts=None), owner_id=None, permission_on_resource='admin', is_legacy=False, is_owner=False, is_mixed=False)]\n"
     ]
    }
   ],
   "source": [
    "from elevenlabs import Voice, VoiceSettings, play\n",
    "from elevenlabs.client import ElevenLabs\n",
    "\n",
    "client = ElevenLabs(\n",
    "    api_key=os.getenv(\"ELEVEN_API_KEY\"),  # Defaults to ELEVEN_API_KEY\n",
    ")\n",
    "all_voices = client.voices.get_all()\n",
    "\n",
    "# filter all voices by language\n",
    "german_voices = [\n",
    "    voice for voice in all_voices.voices if voice.labels.get(\"language\") == \"de\"\n",
    "]\n",
    "print(german_voices)\n"
   ]
  },
  {
   "cell_type": "code",
   "execution_count": 19,
   "metadata": {},
   "outputs": [],
   "source": [
    "from elevenlabs import Voice, VoiceSettings, play\n",
    "from elevenlabs.client import ElevenLabs\n",
    "\n",
    "client = ElevenLabs(\n",
    "    api_key=os.getenv(\"ELEVEN_API_KEY\"),  # Defaults to ELEVEN_API_KEY\n",
    ")\n",
    "\n",
    "voice_id = \"MHOybJN5BsVS5H8m3mru\"  # Max Mustermann - Ernst\n",
    "\n",
    "audio = client.generate(\n",
    "    text=text,\n",
    "    voice=Voice(\n",
    "        voice_id=\"nPczCjzI2devNBz1zQrb\",\n",
    "        settings=VoiceSettings(\n",
    "            stability=0.71, similarity_boost=0.5, style=0.0, use_speaker_boost=True\n",
    "        ),\n",
    "    ),\n",
    "    model=\"eleven_turbo_v2_5\",\n",
    ")\n",
    "from elevenlabs import save\n",
    "\n",
    "save(audio, \"output.mp3\")\n",
    "play(audio)"
   ]
  },
  {
   "cell_type": "code",
   "execution_count": 21,
   "metadata": {},
   "outputs": [],
   "source": [
    "play(audio)"
   ]
  },
  {
   "cell_type": "code",
   "execution_count": 13,
   "metadata": {},
   "outputs": [],
   "source": []
  },
  {
   "cell_type": "code",
   "execution_count": null,
   "metadata": {},
   "outputs": [],
   "source": []
  }
 ],
 "metadata": {
  "kernelspec": {
   "display_name": "fastapi",
   "language": "python",
   "name": "python3"
  },
  "language_info": {
   "codemirror_mode": {
    "name": "ipython",
    "version": 3
   },
   "file_extension": ".py",
   "mimetype": "text/x-python",
   "name": "python",
   "nbconvert_exporter": "python",
   "pygments_lexer": "ipython3",
   "version": "3.12.0"
  }
 },
 "nbformat": 4,
 "nbformat_minor": 2
}
