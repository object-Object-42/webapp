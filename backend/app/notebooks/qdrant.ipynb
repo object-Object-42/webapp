{
 "cells": [
  {
   "cell_type": "code",
   "execution_count": 2,
   "metadata": {},
   "outputs": [
    {
     "name": "stdout",
     "output_type": "stream",
     "text": [
      "Collecting qdrant-client\n",
      "  Using cached qdrant_client-1.12.0-py3-none-any.whl.metadata (10 kB)\n",
      "Collecting grpcio>=1.41.0 (from qdrant-client)\n",
      "  Downloading grpcio-1.67.0-cp312-cp312-macosx_10_9_universal2.whl.metadata (3.9 kB)\n",
      "Collecting grpcio-tools>=1.41.0 (from qdrant-client)\n",
      "  Downloading grpcio_tools-1.67.0-cp312-cp312-macosx_10_9_universal2.whl.metadata (5.3 kB)\n",
      "Requirement already satisfied: httpx>=0.20.0 in /opt/homebrew/Caskroom/miniconda/base/envs/fastapi/lib/python3.12/site-packages (from httpx[http2]>=0.20.0->qdrant-client) (0.27.0)\n",
      "Requirement already satisfied: numpy>=1.26 in /opt/homebrew/Caskroom/miniconda/base/envs/fastapi/lib/python3.12/site-packages (from qdrant-client) (2.0.2)\n",
      "Collecting portalocker<3.0.0,>=2.7.0 (from qdrant-client)\n",
      "  Using cached portalocker-2.10.1-py3-none-any.whl.metadata (8.5 kB)\n",
      "Requirement already satisfied: pydantic>=1.10.8 in /opt/homebrew/Caskroom/miniconda/base/envs/fastapi/lib/python3.12/site-packages (from qdrant-client) (2.8.2)\n",
      "Requirement already satisfied: urllib3<3,>=1.26.14 in /opt/homebrew/Caskroom/miniconda/base/envs/fastapi/lib/python3.12/site-packages (from qdrant-client) (2.2.2)\n",
      "Collecting protobuf<6.0dev,>=5.26.1 (from grpcio-tools>=1.41.0->qdrant-client)\n",
      "  Using cached protobuf-5.28.3-cp38-abi3-macosx_10_9_universal2.whl.metadata (592 bytes)\n",
      "Requirement already satisfied: setuptools in /opt/homebrew/Caskroom/miniconda/base/envs/fastapi/lib/python3.12/site-packages (from grpcio-tools>=1.41.0->qdrant-client) (72.1.0)\n",
      "Requirement already satisfied: anyio in /opt/homebrew/Caskroom/miniconda/base/envs/fastapi/lib/python3.12/site-packages (from httpx>=0.20.0->httpx[http2]>=0.20.0->qdrant-client) (4.4.0)\n",
      "Requirement already satisfied: certifi in /opt/homebrew/Caskroom/miniconda/base/envs/fastapi/lib/python3.12/site-packages (from httpx>=0.20.0->httpx[http2]>=0.20.0->qdrant-client) (2024.7.4)\n",
      "Requirement already satisfied: httpcore==1.* in /opt/homebrew/Caskroom/miniconda/base/envs/fastapi/lib/python3.12/site-packages (from httpx>=0.20.0->httpx[http2]>=0.20.0->qdrant-client) (1.0.5)\n",
      "Requirement already satisfied: idna in /opt/homebrew/Caskroom/miniconda/base/envs/fastapi/lib/python3.12/site-packages (from httpx>=0.20.0->httpx[http2]>=0.20.0->qdrant-client) (3.7)\n",
      "Requirement already satisfied: sniffio in /opt/homebrew/Caskroom/miniconda/base/envs/fastapi/lib/python3.12/site-packages (from httpx>=0.20.0->httpx[http2]>=0.20.0->qdrant-client) (1.3.1)\n",
      "Requirement already satisfied: h11<0.15,>=0.13 in /opt/homebrew/Caskroom/miniconda/base/envs/fastapi/lib/python3.12/site-packages (from httpcore==1.*->httpx>=0.20.0->httpx[http2]>=0.20.0->qdrant-client) (0.14.0)\n",
      "Collecting h2<5,>=3 (from httpx[http2]>=0.20.0->qdrant-client)\n",
      "  Using cached h2-4.1.0-py3-none-any.whl.metadata (3.6 kB)\n",
      "Requirement already satisfied: annotated-types>=0.4.0 in /opt/homebrew/Caskroom/miniconda/base/envs/fastapi/lib/python3.12/site-packages (from pydantic>=1.10.8->qdrant-client) (0.7.0)\n",
      "Requirement already satisfied: pydantic-core==2.20.1 in /opt/homebrew/Caskroom/miniconda/base/envs/fastapi/lib/python3.12/site-packages (from pydantic>=1.10.8->qdrant-client) (2.20.1)\n",
      "Requirement already satisfied: typing-extensions>=4.6.1 in /opt/homebrew/Caskroom/miniconda/base/envs/fastapi/lib/python3.12/site-packages (from pydantic>=1.10.8->qdrant-client) (4.12.2)\n",
      "Collecting hyperframe<7,>=6.0 (from h2<5,>=3->httpx[http2]>=0.20.0->qdrant-client)\n",
      "  Using cached hyperframe-6.0.1-py3-none-any.whl.metadata (2.7 kB)\n",
      "Collecting hpack<5,>=4.0 (from h2<5,>=3->httpx[http2]>=0.20.0->qdrant-client)\n",
      "  Using cached hpack-4.0.0-py3-none-any.whl.metadata (2.5 kB)\n",
      "Using cached qdrant_client-1.12.0-py3-none-any.whl (266 kB)\n",
      "Downloading grpcio-1.67.0-cp312-cp312-macosx_10_9_universal2.whl (11.0 MB)\n",
      "\u001b[2K   \u001b[90m━━━━━━━━━━━━━━━━━━━━━━━━━━━━━━━━━━━━━━━━\u001b[0m \u001b[32m11.0/11.0 MB\u001b[0m \u001b[31m17.4 MB/s\u001b[0m eta \u001b[36m0:00:00\u001b[0m00:01\u001b[0m0:01\u001b[0m\n",
      "\u001b[?25hDownloading grpcio_tools-1.67.0-cp312-cp312-macosx_10_9_universal2.whl (5.5 MB)\n",
      "\u001b[2K   \u001b[90m━━━━━━━━━━━━━━━━━━━━━━━━━━━━━━━━━━━━━━━━\u001b[0m \u001b[32m5.5/5.5 MB\u001b[0m \u001b[31m12.9 MB/s\u001b[0m eta \u001b[36m0:00:00\u001b[0ma \u001b[36m0:00:01\u001b[0m\n",
      "\u001b[?25hUsing cached portalocker-2.10.1-py3-none-any.whl (18 kB)\n",
      "Using cached h2-4.1.0-py3-none-any.whl (57 kB)\n",
      "Downloading protobuf-5.28.3-cp38-abi3-macosx_10_9_universal2.whl (414 kB)\n",
      "Using cached hpack-4.0.0-py3-none-any.whl (32 kB)\n",
      "Using cached hyperframe-6.0.1-py3-none-any.whl (12 kB)\n",
      "Installing collected packages: protobuf, portalocker, hyperframe, hpack, grpcio, h2, grpcio-tools, qdrant-client\n",
      "Successfully installed grpcio-1.67.0 grpcio-tools-1.67.0 h2-4.1.0 hpack-4.0.0 hyperframe-6.0.1 portalocker-2.10.1 protobuf-5.28.3 qdrant-client-1.12.0\n",
      "Note: you may need to restart the kernel to use updated packages.\n"
     ]
    }
   ],
   "source": [
    "%pip install qdrant-client"
   ]
  },
  {
   "cell_type": "code",
   "execution_count": 14,
   "metadata": {},
   "outputs": [],
   "source": [
    "from qdrant_client import QdrantClient\n",
    "\n",
    "client = QdrantClient(host=\"localhost\", port=6333)"
   ]
  },
  {
   "cell_type": "code",
   "execution_count": 83,
   "metadata": {},
   "outputs": [],
   "source": [
    "from qdrant_client.models import VectorParams, Distance\n",
    "\n",
    "vector_data = [\n",
    "    {\"id\": 1, \"vector\": [0.1, 0.2]},\n",
    "    {\"id\": 2, \"vector\": [0.2, 0.3]},\n",
    "    {\"id\": 3, \"vector\": [0.3, 0.4]},\n",
    "    {\"id\": 4, \"vector\": [0.4, 0.5]},\n",
    "    {\"id\": 5, \"vector\": [0.5, 0.6]},\n",
    "]\n",
    "\n",
    "if not client.collection_exists(\"test_collection\"):\n",
    "    client.create_collection(\n",
    "        collection_name=\"test_collection\",\n",
    "        vectors_config=VectorParams(size=2, distance=Distance.COSINE),\n",
    "    )"
   ]
  },
  {
   "cell_type": "code",
   "execution_count": 84,
   "metadata": {},
   "outputs": [],
   "source": [
    "import numpy as np\n",
    "from qdrant_client.models import PointStruct\n",
    "\n",
    "vectors = np.random.rand(5, 2)\n",
    "for idx, vector in enumerate(vectors):\n",
    "    client.upsert(\n",
    "        collection_name=\"test_collection\",\n",
    "        points=[\n",
    "            PointStruct(\n",
    "                id=idx,\n",
    "                vector=vector.tolist(),\n",
    "                payload={\"color\": \"red\"},\n",
    "            )\n",
    "        ],\n",
    "    )"
   ]
  },
  {
   "cell_type": "code",
   "execution_count": 54,
   "metadata": {},
   "outputs": [
    {
     "name": "stdout",
     "output_type": "stream",
     "text": [
      "[0.3551686584952938, 0.7424673203586779]\n"
     ]
    }
   ],
   "source": [
    "vectors = np.random.rand(5, 2)\n",
    "\n",
    "# vectors[0].tolist()\n",
    "\n",
    "print(vectors[0].tolist())"
   ]
  },
  {
   "cell_type": "code",
   "execution_count": 85,
   "metadata": {},
   "outputs": [
    {
     "data": {
      "text/plain": [
       "CollectionInfo(status=<CollectionStatus.GREEN: 'green'>, optimizer_status=<OptimizersStatusOneOf.OK: 'ok'>, vectors_count=None, indexed_vectors_count=0, points_count=100, segments_count=8, config=CollectionConfig(params=CollectionParams(vectors=VectorParams(size=2, distance=<Distance.COSINE: 'Cosine'>, hnsw_config=None, quantization_config=None, on_disk=None, datatype=None, multivector_config=None), shard_number=1, sharding_method=None, replication_factor=1, write_consistency_factor=1, read_fan_out_factor=None, on_disk_payload=True, sparse_vectors=None), hnsw_config=HnswConfig(m=16, ef_construct=100, full_scan_threshold=10000, max_indexing_threads=0, on_disk=False, payload_m=None), optimizer_config=OptimizersConfig(deleted_threshold=0.2, vacuum_min_vector_number=1000, default_segment_number=0, max_segment_size=None, memmap_threshold=None, indexing_threshold=20000, flush_interval_sec=5, max_optimization_threads=None), wal_config=WalConfig(wal_capacity_mb=32, wal_segments_ahead=0), quantization_config=None), payload_schema={})"
      ]
     },
     "execution_count": 85,
     "metadata": {},
     "output_type": "execute_result"
    }
   ],
   "source": [
    "client.get_collection(collection_name=\"test_collection\")\n"
   ]
  },
  {
   "cell_type": "code",
   "execution_count": 86,
   "metadata": {},
   "outputs": [
    {
     "data": {
      "text/plain": [
       "CollectionInfo(status=<CollectionStatus.GREEN: 'green'>, optimizer_status=<OptimizersStatusOneOf.OK: 'ok'>, vectors_count=None, indexed_vectors_count=0, points_count=100, segments_count=8, config=CollectionConfig(params=CollectionParams(vectors=VectorParams(size=2, distance=<Distance.COSINE: 'Cosine'>, hnsw_config=None, quantization_config=None, on_disk=None, datatype=None, multivector_config=None), shard_number=1, sharding_method=None, replication_factor=1, write_consistency_factor=1, read_fan_out_factor=None, on_disk_payload=True, sparse_vectors=None), hnsw_config=HnswConfig(m=16, ef_construct=100, full_scan_threshold=10000, max_indexing_threads=0, on_disk=False, payload_m=None), optimizer_config=OptimizersConfig(deleted_threshold=0.2, vacuum_min_vector_number=1000, default_segment_number=0, max_segment_size=None, memmap_threshold=None, indexing_threshold=20000, flush_interval_sec=5, max_optimization_threads=None), wal_config=WalConfig(wal_capacity_mb=32, wal_segments_ahead=0), quantization_config=None), payload_schema={})"
      ]
     },
     "execution_count": 86,
     "metadata": {},
     "output_type": "execute_result"
    }
   ],
   "source": [
    "client.get_collection(collection_name=\"test_collection\")"
   ]
  },
  {
   "cell_type": "code",
   "execution_count": 87,
   "metadata": {},
   "outputs": [
    {
     "data": {
      "text/plain": [
       "([Record(id=0, payload={'color': 'red'}, vector=[0.6077387, 0.79413706], shard_key=None, order_value=None),\n",
       "  Record(id=1, payload={'color': 'red'}, vector=[0.5660218, 0.82439023], shard_key=None, order_value=None),\n",
       "  Record(id=2, payload={'color': 'red'}, vector=[0.66322464, 0.74842036], shard_key=None, order_value=None),\n",
       "  Record(id=3, payload={'color': 'red'}, vector=[0.26596117, 0.9639838], shard_key=None, order_value=None),\n",
       "  Record(id=4, payload={'color': 'red'}, vector=[0.3843717, 0.9231784], shard_key=None, order_value=None)],\n",
       " 5)"
      ]
     },
     "execution_count": 87,
     "metadata": {},
     "output_type": "execute_result"
    }
   ],
   "source": [
    "client.scroll(collection_name=\"test_collection\", limit=5, with_vectors=True)"
   ]
  },
  {
   "cell_type": "code",
   "execution_count": 92,
   "metadata": {},
   "outputs": [
    {
     "data": {
      "text/plain": [
       "QueryResponse(points=[ScoredPoint(id=0, version=18, score=1.0, payload={'color': 'red'}, vector=[0.6077387, 0.79413706], shard_key=None, order_value=None), ScoredPoint(id=82, version=0, score=0.9999949, payload={'color': 'red', 'rand_number': 2}, vector=[0.61026424, 0.7921979], shard_key=None, order_value=None), ScoredPoint(id=50, version=0, score=0.99997854, payload={'color': 'red', 'rand_number': 0}, vector=[0.61291414, 0.79014945], shard_key=None, order_value=None), ScoredPoint(id=12, version=0, score=0.99986804, payload={'color': 'red', 'rand_number': 2}, vector=[0.620561, 0.78415823], shard_key=None, order_value=None), ScoredPoint(id=97, version=0, score=0.9998661, payload={'color': 'red', 'rand_number': 7}, vector=[0.5946645, 0.8039739], shard_key=None, order_value=None), ScoredPoint(id=32, version=0, score=0.99970794, payload={'color': 'red', 'rand_number': 2}, vector=[0.62675285, 0.77921814], shard_key=None, order_value=None), ScoredPoint(id=44, version=0, score=0.9996995, payload={'color': 'red', 'rand_number': 4}, vector=[0.6270218, 0.7790017], shard_key=None, order_value=None), ScoredPoint(id=38, version=0, score=0.99911165, payload={'color': 'red', 'rand_number': 8}, vector=[0.6406641, 0.7678213], shard_key=None, order_value=None), ScoredPoint(id=59, version=0, score=0.9990189, payload={'color': 'red', 'rand_number': 9}, vector=[0.5719744, 0.82027143], shard_key=None, order_value=None), ScoredPoint(id=47, version=0, score=0.9988686, payload={'color': 'red', 'rand_number': 7}, vector=[0.6448171, 0.7643369], shard_key=None, order_value=None)])"
      ]
     },
     "execution_count": 92,
     "metadata": {},
     "output_type": "execute_result"
    }
   ],
   "source": [
    "client.query_points(\n",
    "    collection_name=\"test_collection\",\n",
    "    query=vectors[0].tolist(),\n",
    "    with_vectors=True,\n",
    ")"
   ]
  },
  {
   "cell_type": "code",
   "execution_count": null,
   "metadata": {},
   "outputs": [],
   "source": []
  }
 ],
 "metadata": {
  "kernelspec": {
   "display_name": "fastapi",
   "language": "python",
   "name": "python3"
  },
  "language_info": {
   "codemirror_mode": {
    "name": "ipython",
    "version": 3
   },
   "file_extension": ".py",
   "mimetype": "text/x-python",
   "name": "python",
   "nbconvert_exporter": "python",
   "pygments_lexer": "ipython3",
   "version": "3.12.0"
  }
 },
 "nbformat": 4,
 "nbformat_minor": 2
}
